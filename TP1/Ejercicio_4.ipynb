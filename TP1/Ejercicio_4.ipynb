{
  "nbformat": 4,
  "nbformat_minor": 0,
  "metadata": {
    "colab": {
      "provenance": [],
      "authorship_tag": "ABX9TyP3Ru1mCJVAfBE3XsiSpYFa",
      "include_colab_link": true
    },
    "kernelspec": {
      "name": "python3",
      "display_name": "Python 3"
    },
    "language_info": {
      "name": "python"
    }
  },
  "cells": [
    {
      "cell_type": "markdown",
      "metadata": {
        "id": "view-in-github",
        "colab_type": "text"
      },
      "source": [
        "<a href=\"https://colab.research.google.com/github/daniel-lorenzo/Mecanica/blob/main/TP1/Ejercicio_4.ipynb\" target=\"_parent\"><img src=\"https://colab.research.google.com/assets/colab-badge.svg\" alt=\"Open In Colab\"/></a>"
      ]
    },
    {
      "cell_type": "markdown",
      "metadata": {
        "id": "Beb5g67I-LNy"
      },
      "source": [
        "## Ejercicio 4\n",
        "Un obstáculo genera una perturbación instantánea en la suspensión de un automóvil. En ese momento, la rueda se retrae con una velocidad $V_0$. La suspensión presenta una deflexión estática, y un amortiguamiento relativo $n/n_c$. Las dimensiones de obstáculo se desprecian respecto de la carrera de la suspensión (rueda)."
      ]
    },
    {
      "cell_type": "markdown",
      "metadata": {
        "id": "ejc5Ea0KABSu"
      },
      "source": [
        "![image.png](data:image/png;base64,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)"
      ]
    },
    {
      "cell_type": "markdown",
      "metadata": {
        "id": "7-4-9T0nADj3"
      },
      "source": [
        "__Determinar:__\n",
        "\n",
        "__1) Constante $k$ del muelle, frecuencia natural $p$, coeficiente $c$ del amortiguador y pseudoperíodo $T'$.__"
      ]
    },
    {
      "cell_type": "markdown",
      "metadata": {
        "id": "LJ5_ySQCA_jO"
      },
      "source": [
        "$$ \\delta_{est} k = mg \\quad ; \\quad p = \\sqrt{ \\frac{k}{m} } \\quad ; \\quad c = 2nm \\quad ; \\quad T'= \\frac{2 \\pi}{ \\sqrt{p^2 - n^2} } $$"
      ]
    },
    {
      "cell_type": "code",
      "metadata": {
        "id": "OFR4YplwrhiJ"
      },
      "source": [
        "# Datos (Grupo 1)\n",
        "M = 1000         # [kg]      (masa)\n",
        "δ_est = 5e-2     # [m]       (deflexión estática)\n",
        "Vo = 5           # [m/s]     (velocidad inicial)\n",
        "n_nc = 0.60      #           (amortiguamiento relativo)\n",
        "g = 9.81         # [m/s**2]  (aceleración de la gravedad)"
      ],
      "execution_count": null,
      "outputs": []
    },
    {
      "cell_type": "code",
      "metadata": {
        "id": "n8EKy61EKEP8"
      },
      "source": [
        "import numpy as np"
      ],
      "execution_count": null,
      "outputs": []
    },
    {
      "cell_type": "code",
      "metadata": {
        "id": "ohmrcLHMJAl2"
      },
      "source": [
        "# Constante (k) del muelle\n",
        "k = (M*g)/δ_est\n",
        "# Frecuencia natural (p)\n",
        "p = np.sqrt(k/M)\n",
        "# Amortuguamiento absoluto (n)\n",
        "n = n_nc*p\n",
        "# Coeficiente (c) del amortiguador\n",
        "c = 2*n*M\n",
        "# Pseudoperíodo T'\n",
        "T_1 = (2*np.pi)/np.sqrt(p**2 - n**2)"
      ],
      "execution_count": null,
      "outputs": []
    },
    {
      "cell_type": "code",
      "metadata": {
        "colab": {
          "base_uri": "https://localhost:8080/"
        },
        "cellView": "form",
        "id": "2sHNfRJZLcGT",
        "outputId": "e24b8312-7141-4d5c-9ecc-4f31130571b0"
      },
      "source": [
        "#@title Resultados:\n",
        "print('k = %.0f [N/m]\\tConstante (k) del muelle'%k)\n",
        "print('p = %.2f [1/s]\\t\\tFrecuencia natural (p)'%p)\n",
        "print('c = %.0f [kg/s]\\tCoeficiente (c) del amortiguador'%c)\n",
        "print('T_1 = %.4f [1/s]\\tPseudoperíodo T\\''%T_1)"
      ],
      "execution_count": null,
      "outputs": [
        {
          "output_type": "stream",
          "name": "stdout",
          "text": [
            "k = 196200 [N/m]\tConstante (k) del muelle\n",
            "p = 14.01 [1/s]\t\tFrecuencia natural (p)\n",
            "c = 16809 [kg/s]\tCoeficiente (c) del amortiguador\n",
            "T_1 = 0.5607 [1/s]\tPseudoperíodo T'\n"
          ]
        }
      ]
    },
    {
      "cell_type": "markdown",
      "metadata": {
        "id": "O9n6r7CMBE2k"
      },
      "source": [
        "__2) Amplitud máxima del movimiento.__\n",
        "\n",
        "Bajo el supuesto aproximado que la amplitud máxima se produce en el tiempo $t = \\frac{1}{4} T'$, la expresión de desplazamiento se reduce a:"
      ]
    },
    {
      "cell_type": "markdown",
      "metadata": {
        "id": "yhFfCpYqBguY"
      },
      "source": [
        "$$ x_{max} = e^{-n(T'/4)} \\left[ \\frac{V_0}{ \\sqrt{ p^2 - n^2 } } \\right] $$"
      ]
    },
    {
      "cell_type": "code",
      "metadata": {
        "id": "Mzfw1sdgNWtH"
      },
      "source": [
        "x_max = np.exp(-n*T_1/4)*(Vo/np.sqrt(p**2 - n**2))"
      ],
      "execution_count": null,
      "outputs": []
    },
    {
      "cell_type": "code",
      "metadata": {
        "colab": {
          "base_uri": "https://localhost:8080/"
        },
        "id": "nU98pKr4N8fE",
        "cellView": "form",
        "outputId": "8f9d32a1-b672-4d89-f23b-a14af96713e8"
      },
      "source": [
        "#@title Resultado:\n",
        "print('x_max = %.4f [cm]\\t Amplitud máxima de movimiento'%(x_max*1e2))"
      ],
      "execution_count": null,
      "outputs": [
        {
          "output_type": "stream",
          "name": "stdout",
          "text": [
            "x_max = 13.7369 [cm]\t Amplitud máxima de movimiento\n"
          ]
        }
      ]
    },
    {
      "cell_type": "markdown",
      "metadata": {
        "id": "23Zmb_4jCG02"
      },
      "source": [
        "Con $x_0 = 0$ ya que las dimensiones del obstáculo se desprecian respecto de la carrera de la suspensión (rueda), y"
      ]
    },
    {
      "cell_type": "markdown",
      "metadata": {
        "id": "XTJ8o_H0CUaY"
      },
      "source": [
        "$$ \\sin \\left( \\sqrt{p^2 - n^2} \\cdot \\frac{T'}{4} \\right) = 1 $$"
      ]
    },
    {
      "cell_type": "markdown",
      "metadata": {
        "id": "oBKRheZYCq-o"
      },
      "source": [
        "ya que se busca el máximo valor de amplitud."
      ]
    },
    {
      "cell_type": "markdown",
      "metadata": {
        "id": "tefY0AJ0CxS5"
      },
      "source": [
        "__3) Se desea disminuir la amplitud variando el amortiguamiento $n$. Justifique con ejemplo numérico.__"
      ]
    },
    {
      "cell_type": "markdown",
      "metadata": {
        "id": "5oGJm84pC8UG"
      },
      "source": [
        "Para justificar numéricamente, puede utilizarse la expresión del pseudo-periodo y la expresión general de desplazamiento para obtener la máxima amplitud en $t = \\frac{1}{4} T'$."
      ]
    },
    {
      "cell_type": "markdown",
      "metadata": {
        "id": "dD2J8IfJDVHy"
      },
      "source": [
        "Variando $n$, se obtienen dos valores de pseudo-periodo para comparar:"
      ]
    },
    {
      "cell_type": "markdown",
      "metadata": {
        "id": "UPwoC5FhDgSq"
      },
      "source": [
        "$$ T'_1 = \\frac{2 \\pi}{\\sqrt{p^2 - n_1^2}} \\quad ; \\quad T'_2 = \\frac{2 \\pi}{ \\sqrt{p^2 - n_2^2} } \\quad ; \\quad t_1 = \\frac{1}{4} T'_1 \\quad ; \\quad t_2 = \\frac{1}{4} T'_2 $$"
      ]
    },
    {
      "cell_type": "markdown",
      "metadata": {
        "id": "oFBKr0n5EIQt"
      },
      "source": [
        "$$\n",
        "\\left.\n",
        "\\begin{align}\n",
        "x_1 &= e^{-n_1 t_1} \\left[ \\frac{V_0}{ \\sqrt{p^2 - n_1^2} } \\right] \\\\\n",
        "x_2 &= e^{-n_2 t_2} \\left[ \\frac{V_0}{ \\sqrt{p^2 - n_2^2} } \\right]\n",
        "\\end{align} \\quad\n",
        "\\right\\} \\quad \\Rightarrow \\quad \\mbox{Cómo varía }n? \\; \\Rightarrow \\; x_1 < x_2 \\quad o \\quad x_1 > x_2 \\; ?\n",
        "$$"
      ]
    },
    {
      "cell_type": "code",
      "metadata": {
        "id": "kGiWhAX-32Ai"
      },
      "source": [
        "n_1 = 3\n",
        "n_2 = 9"
      ],
      "execution_count": null,
      "outputs": []
    },
    {
      "cell_type": "code",
      "metadata": {
        "id": "Ez6T7meF0xE-"
      },
      "source": [
        "T_1 = (2*np.pi)/np.sqrt(p**2 - n_1**2)\n",
        "T_2 = (2*np.pi)/np.sqrt(p**2 - n_2**2)\n",
        "t_1 = T_1/4\n",
        "t_2 = T_2/4"
      ],
      "execution_count": null,
      "outputs": []
    },
    {
      "cell_type": "code",
      "metadata": {
        "id": "bH3wkzAk1cwU"
      },
      "source": [
        "x_1 = np.exp(-n_1*t_1)*Vo/np.sqrt(p**2 - n_1**2)\n",
        "x_2 = np.exp(-n_2*t_2)*Vo/np.sqrt(p**2 - n_2**2)"
      ],
      "execution_count": null,
      "outputs": []
    },
    {
      "cell_type": "code",
      "metadata": {
        "colab": {
          "base_uri": "https://localhost:8080/"
        },
        "cellView": "form",
        "id": "1bdtCh2b10LK",
        "outputId": "6b877f33-7bae-403c-d3d8-56724105f8fd"
      },
      "source": [
        "#@title Resultados:\n",
        "print('x_1 = %.4f [m]'%x_1)\n",
        "print('x_2 = %.4f [m]'%x_2)"
      ],
      "execution_count": null,
      "outputs": [
        {
          "output_type": "stream",
          "name": "stdout",
          "text": [
            "x_1 = 0.2590 [m]\n",
            "x_2 = 0.1248 [m]\n"
          ]
        }
      ]
    },
    {
      "cell_type": "markdown",
      "metadata": {
        "id": "a0fUSpk13MYK"
      },
      "source": [
        "En la medida que aumenta $n: \\;$ $x_1 > x_2$"
      ]
    },
    {
      "cell_type": "code",
      "source": [
        "#%reset -s -f"
      ],
      "metadata": {
        "id": "UbWq738e8pCs"
      },
      "execution_count": null,
      "outputs": []
    }
  ]
}