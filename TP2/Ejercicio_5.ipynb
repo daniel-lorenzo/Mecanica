{
  "nbformat": 4,
  "nbformat_minor": 0,
  "metadata": {
    "colab": {
      "provenance": [],
      "authorship_tag": "ABX9TyPKK4QTc7Zegm0tTw9XZaxF",
      "include_colab_link": true
    },
    "kernelspec": {
      "name": "python3",
      "display_name": "Python 3"
    },
    "language_info": {
      "name": "python"
    }
  },
  "cells": [
    {
      "cell_type": "markdown",
      "metadata": {
        "id": "view-in-github",
        "colab_type": "text"
      },
      "source": [
        "<a href=\"https://colab.research.google.com/github/daniel-lorenzo/Mecanica/blob/main/TP2/Ejercicio_5.ipynb\" target=\"_parent\"><img src=\"https://colab.research.google.com/assets/colab-badge.svg\" alt=\"Open In Colab\"/></a>"
      ]
    },
    {
      "cell_type": "markdown",
      "source": [
        "# Ejercicio 5\n",
        "Se tiene un disco de masa Md dentro de una caja de aceite y soportado sobre un eje simplemente apoyado, el cual gira a una velocidad angular ω. El conjunto tiene una deflexión estática δestático debida al peso del disco. Por otro lado, el disco tiene un desbalanceamiento generado por la excentricidad “e” del centro de masa respecto del eje de rotación. Los apoyos del eje tienen una rigidez equivalente K y la resistencia viscosa del fluido aporta un amortiguamiento de 40%.\n",
        "\n",
        "__Se pide:__\n",
        "\n",
        "a) Velocidad crítica ωc expresada en rpm (se desprecia la masa del eje).\n",
        "\n",
        "b) Se decide trabajar al 50% de ωc. Obtener la amplitud, velocidad y aceleración\n",
        "máximas.\n",
        "\n",
        "c) Determinar la fuerza transmitida a los apoyos, la fuerza generada por resistencia\n",
        "viscosa del fluido y la fuerza transmitida total."
      ],
      "metadata": {
        "id": "Ogn4mGDH5TXt"
      }
    },
    {
      "cell_type": "markdown",
      "source": [
        "![image.png](data:image/png;base64,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)"
      ],
      "metadata": {
        "id": "nNwLXQsT5xZm"
      }
    },
    {
      "cell_type": "markdown",
      "source": [
        "$$\\delta_{est} = \\frac{I^3 M_d}{48 IE} \\qquad ; \\qquad I = \\frac{\\pi}{64} \\phi^4$$"
      ],
      "metadata": {
        "id": "gJMpDp3C5zH6"
      }
    },
    {
      "cell_type": "markdown",
      "source": [
        "## Solución"
      ],
      "metadata": {
        "id": "P2EF_cYD6C_s"
      }
    },
    {
      "cell_type": "code",
      "execution_count": null,
      "metadata": {
        "id": "GnEqyD6n5PF5"
      },
      "outputs": [],
      "source": [
        "# Datos:\n",
        "M_D   = 50   # [kg]\n",
        "ϕ_eje = 5e-2 # [m]\n",
        "l =      2   # [m]\n",
        "e =     2e-3 # [m]\n",
        "E =   2.1e10 # [kg/m^2]\n",
        "n_nc = 0.4\n",
        "g =     9.81 # [m/s^2]"
      ]
    },
    {
      "cell_type": "code",
      "source": [
        "import numpy as np"
      ],
      "metadata": {
        "id": "RNR8rDgvF6i3"
      },
      "execution_count": null,
      "outputs": []
    },
    {
      "cell_type": "markdown",
      "source": [
        "### a) Para conocer la frecuencia natural del sistema necesitamos, primero, averiguar el valor de k, previo cálculo de I y δ."
      ],
      "metadata": {
        "id": "j4WjjR6r6FMe"
      }
    },
    {
      "cell_type": "markdown",
      "source": [
        "Calculamos $I$\n",
        "$$I = \\frac{\\pi}{64} \\cdot \\phi^4$$"
      ],
      "metadata": {
        "id": "KDFm9JZGFuaT"
      }
    },
    {
      "cell_type": "code",
      "source": [
        "I = (np.pi/64)*ϕ_eje**4"
      ],
      "metadata": {
        "id": "nIEkEt8TFJw1"
      },
      "execution_count": null,
      "outputs": []
    },
    {
      "cell_type": "code",
      "source": [
        "#@title I\n",
        "print(\"I = \",I ,\" [m^4]\")"
      ],
      "metadata": {
        "colab": {
          "base_uri": "https://localhost:8080/"
        },
        "cellView": "form",
        "id": "CSyEVnXkGEdB",
        "outputId": "fb2a5759-afa5-4bc8-cfae-482111e2ceb5"
      },
      "execution_count": null,
      "outputs": [
        {
          "output_type": "stream",
          "name": "stdout",
          "text": [
            "I =  3.067961575771283e-07  [m^4]\n"
          ]
        }
      ]
    },
    {
      "cell_type": "markdown",
      "source": [
        "Calculamos $\\delta_{estatico}$\n",
        "$$\\delta_{estatico} = \\frac{l^3 \\cdot M_D}{48 I E}$$"
      ],
      "metadata": {
        "id": "ABpF1uBsGioy"
      }
    },
    {
      "cell_type": "code",
      "source": [
        "δ_est = (l**3 * M_D)/(48*I*E)"
      ],
      "metadata": {
        "id": "k4iKRBJZGP-G"
      },
      "execution_count": null,
      "outputs": []
    },
    {
      "cell_type": "code",
      "source": [
        "#@title δ_est\n",
        "print(\"δ_est = %.4f [m]\"%δ_est)"
      ],
      "metadata": {
        "colab": {
          "base_uri": "https://localhost:8080/"
        },
        "cellView": "form",
        "id": "2F5TNLgBG9VR",
        "outputId": "9514edd1-3e70-468f-9c6a-b38b904c9b5b"
      },
      "execution_count": null,
      "outputs": [
        {
          "output_type": "stream",
          "name": "stdout",
          "text": [
            "δ_est = 0.0013 [m]\n"
          ]
        }
      ]
    },
    {
      "cell_type": "markdown",
      "source": [
        "Calculamos $k$\n",
        "$$k = \\frac{Mg}{δ_est}$$"
      ],
      "metadata": {
        "id": "vT75njwHHLDV"
      }
    },
    {
      "cell_type": "code",
      "source": [
        "k = g*M_D/δ_est"
      ],
      "metadata": {
        "id": "_-2JQ9PrHHow"
      },
      "execution_count": null,
      "outputs": []
    },
    {
      "cell_type": "code",
      "source": [
        "#@title k\n",
        "print(\"k = %.1f [N/m]\"%k)"
      ],
      "metadata": {
        "colab": {
          "base_uri": "https://localhost:8080/"
        },
        "cellView": "form",
        "id": "_dYOi9w3Hj_R",
        "outputId": "9fc8d7cd-b2d5-42c2-bd3e-1fbf6345a18e"
      },
      "execution_count": null,
      "outputs": [
        {
          "output_type": "stream",
          "name": "stdout",
          "text": [
            "k = 379218.5 [N/m]\n"
          ]
        }
      ]
    },
    {
      "cell_type": "markdown",
      "source": [
        "Calculamos la frecuencia natural del sistema\n",
        "\n",
        "$$p = \\sqrt{\\frac{k}{M_D}}$$"
      ],
      "metadata": {
        "id": "2l6fyg_-Hykd"
      }
    },
    {
      "cell_type": "code",
      "source": [
        "p = np.sqrt(k/M_D)"
      ],
      "metadata": {
        "id": "_SzwousuHqSl"
      },
      "execution_count": null,
      "outputs": []
    },
    {
      "cell_type": "code",
      "source": [
        "#@title p\n",
        "print(\"p = %.2f [1/s]\"%p)"
      ],
      "metadata": {
        "colab": {
          "base_uri": "https://localhost:8080/"
        },
        "cellView": "form",
        "id": "nZp0tpJOH7db",
        "outputId": "0fd60018-8a66-4d98-c8ce-968b8efde490"
      },
      "execution_count": null,
      "outputs": [
        {
          "output_type": "stream",
          "name": "stdout",
          "text": [
            "p = 87.09 [1/s]\n"
          ]
        }
      ]
    },
    {
      "cell_type": "markdown",
      "source": [
        "Como $\\omega = p$, expresamos la velocidad crítica en rpm:\n",
        "\n",
        "$$\\omega_c = p$$"
      ],
      "metadata": {
        "id": "QJh6KJYRIEMU"
      }
    },
    {
      "cell_type": "markdown",
      "source": [
        "$$\\frac{rad}{s} \\cdot \\frac{60 \\;s}{min} \\cdot \\frac{1 \\; rev}{2 \\pi \\; rad}$$"
      ],
      "metadata": {
        "id": "RGL2v-1gIVvO"
      }
    },
    {
      "cell_type": "code",
      "source": [
        "ω_c = p"
      ],
      "metadata": {
        "id": "o2ocLORhH_8X"
      },
      "execution_count": null,
      "outputs": []
    },
    {
      "cell_type": "code",
      "source": [
        "#@title ω_c\n",
        "print(\"ω_c = %.2f [1/s]\"%ω_c)\n",
        "print(\"ω_c = %.3f [rpm]\"%(ω_c*60/(2*np.pi)))"
      ],
      "metadata": {
        "colab": {
          "base_uri": "https://localhost:8080/"
        },
        "cellView": "form",
        "id": "zZnidDpuIzIP",
        "outputId": "7e5f9564-5fb0-4dce-98a3-aa8e4dac1e0e"
      },
      "execution_count": null,
      "outputs": [
        {
          "output_type": "stream",
          "name": "stdout",
          "text": [
            "ω_c = 87.09 [1/s]\n",
            "ω_c = 831.632 [rpm]\n"
          ]
        }
      ]
    },
    {
      "cell_type": "markdown",
      "source": [
        "---\n",
        "### c) Como se pretende trabajar al 50% de la velocidad crítica, planteamos:\n",
        "\n",
        "$$\\omega_b = 0.5 \\omega_c$$"
      ],
      "metadata": {
        "id": "4sbl8FECJcAn"
      }
    },
    {
      "cell_type": "code",
      "source": [
        "ω_b = 0.5*ω_c"
      ],
      "metadata": {
        "id": "SRD59vhxJONc"
      },
      "execution_count": null,
      "outputs": []
    },
    {
      "cell_type": "code",
      "source": [
        "#@title ω_b\n",
        "print(\"ω_b = %.2f [1/s]\"%ω_b)"
      ],
      "metadata": {
        "colab": {
          "base_uri": "https://localhost:8080/"
        },
        "cellView": "form",
        "id": "HQdp-Q4nJ6q_",
        "outputId": "0205e117-4dba-4ef4-d4b7-7da5e68f25e7"
      },
      "execution_count": null,
      "outputs": [
        {
          "output_type": "stream",
          "name": "stdout",
          "text": [
            "ω_b = 43.54 [1/s]\n"
          ]
        }
      ]
    },
    {
      "cell_type": "markdown",
      "source": [
        "Para calcular la amplitud máxima, primero necesitamos averiguar el valor de $F_0$"
      ],
      "metadata": {
        "id": "kl5KOZREKE17"
      }
    },
    {
      "cell_type": "markdown",
      "source": [
        "$$F_0 = M_D \\cdot \\omega^2_b \\cdot e$$"
      ],
      "metadata": {
        "id": "xaFv6H_FKMsG"
      }
    },
    {
      "cell_type": "code",
      "source": [
        "F_0 = M_D * (ω_b**2) * e"
      ],
      "metadata": {
        "id": "ch_dad7NKCvM"
      },
      "execution_count": null,
      "outputs": []
    },
    {
      "cell_type": "code",
      "source": [
        "#@title F_0\n",
        "print(\"F_0 = %.2f [N]\"%F_0)"
      ],
      "metadata": {
        "colab": {
          "base_uri": "https://localhost:8080/"
        },
        "cellView": "form",
        "id": "IY-lbTZVKiMX",
        "outputId": "3a74adc3-ebbd-4285-a917-d24cd5ccde93"
      },
      "execution_count": null,
      "outputs": [
        {
          "output_type": "stream",
          "name": "stdout",
          "text": [
            "F_0 = 189.61 [N]\n"
          ]
        }
      ]
    },
    {
      "cell_type": "markdown",
      "source": [
        "Calculamos la amplitud máxima:\n",
        "\n",
        "$$A_{max} = \\frac{F_0}{k} \\cdot \\frac{1}{\\displaystyle \\sqrt{ \\left( 1 - \\frac{\\omega^2}{p^2} \\right)^2 + \\left( 2 \\frac{n}{n_c} \\frac{\\omega_b}{p} \\right)^2 }}$$"
      ],
      "metadata": {
        "id": "Nk28pdcGKr1B"
      }
    },
    {
      "cell_type": "markdown",
      "source": [
        "con $\\frac{n}{n_c} = 0,4$"
      ],
      "metadata": {
        "id": "LWfxJk_xLc6q"
      }
    },
    {
      "cell_type": "code",
      "source": [
        "n_nc = 0.4\n",
        "\n",
        "A_max = F_0/k * 1/np.sqrt( (1 - ω_b**2/p**2)**2 + (2*n_nc*ω_b/p)**2 )"
      ],
      "metadata": {
        "id": "xGYTC9zrKoZc"
      },
      "execution_count": null,
      "outputs": []
    },
    {
      "cell_type": "code",
      "source": [
        "#@title A_max\n",
        "print(\"A_max = %.6f [m]\"%A_max)"
      ],
      "metadata": {
        "colab": {
          "base_uri": "https://localhost:8080/"
        },
        "cellView": "form",
        "id": "k9iOUteNL4kB",
        "outputId": "e600e30b-45c4-422c-9c0d-dae3e5109b94"
      },
      "execution_count": null,
      "outputs": [
        {
          "output_type": "stream",
          "name": "stdout",
          "text": [
            "A_max = 0.000588 [m]\n"
          ]
        }
      ]
    },
    {
      "cell_type": "markdown",
      "source": [
        "Calculamos la velocidad máxima:\n",
        "$$v_{max} = \\omega \\cdot A_{max}$$"
      ],
      "metadata": {
        "id": "QytH10RyME_9"
      }
    },
    {
      "cell_type": "code",
      "source": [
        "v_max = ω_b*A_max"
      ],
      "metadata": {
        "id": "ch234d2wMAZJ"
      },
      "execution_count": null,
      "outputs": []
    },
    {
      "cell_type": "code",
      "source": [
        "#@title v_max\n",
        "print(\"v_max = %.4f [m/s]\"%v_max)"
      ],
      "metadata": {
        "colab": {
          "base_uri": "https://localhost:8080/"
        },
        "cellView": "form",
        "id": "PeUEcB29MVYz",
        "outputId": "8203f226-74e6-4ee4-9fb4-22e5c4f0a908"
      },
      "execution_count": null,
      "outputs": [
        {
          "output_type": "stream",
          "name": "stdout",
          "text": [
            "v_max = 0.0256 [m/s]\n"
          ]
        }
      ]
    },
    {
      "cell_type": "markdown",
      "source": [
        "Calculamos la aceleración máxima:\n",
        "$$a_{max} = \\omega^2 \\cdot A_{max}$$"
      ],
      "metadata": {
        "id": "ikQ60smSMgPk"
      }
    },
    {
      "cell_type": "code",
      "source": [
        "a_max = ω_b**2 * A_max"
      ],
      "metadata": {
        "id": "v-IqcKS-Mb_F"
      },
      "execution_count": null,
      "outputs": []
    },
    {
      "cell_type": "code",
      "source": [
        "#@title a_max\n",
        "print(\"a_max = %.3f [m/s^2]\"%a_max)"
      ],
      "metadata": {
        "colab": {
          "base_uri": "https://localhost:8080/"
        },
        "cellView": "form",
        "id": "G6ho-H_0MtHy",
        "outputId": "6b770f37-3fc5-44a3-cc43-fc447d256365"
      },
      "execution_count": null,
      "outputs": [
        {
          "output_type": "stream",
          "name": "stdout",
          "text": [
            "a_max = 1.115 [m/s^2]\n"
          ]
        }
      ]
    },
    {
      "cell_type": "markdown",
      "source": [
        "---\n",
        "### c) Calculamos $n$"
      ],
      "metadata": {
        "id": "5-pk3s8XNDkb"
      }
    },
    {
      "cell_type": "markdown",
      "source": [
        "$$\\frac{n}{n_c} = 0,4 \\qquad ; \\qquad n = 0,4 n_c$$"
      ],
      "metadata": {
        "id": "GDGa4LmbNLEb"
      }
    },
    {
      "cell_type": "code",
      "source": [
        "n_c = p\n",
        "\n",
        "n = 0.4*n_c"
      ],
      "metadata": {
        "id": "LCWOy2HbM3Ku"
      },
      "execution_count": null,
      "outputs": []
    },
    {
      "cell_type": "code",
      "source": [
        "#@title n\n",
        "print(\"n = %.2f [1/s]\"%n)"
      ],
      "metadata": {
        "colab": {
          "base_uri": "https://localhost:8080/"
        },
        "cellView": "form",
        "id": "ePzW2p77M-e9",
        "outputId": "7da079b1-95e8-4c16-aecd-86918c75292c"
      },
      "execution_count": null,
      "outputs": [
        {
          "output_type": "stream",
          "name": "stdout",
          "text": [
            "n = 34.84 [1/s]\n"
          ]
        }
      ]
    },
    {
      "cell_type": "markdown",
      "source": [
        "Calculamos la constante de amortiguamiento:\n",
        "\n",
        "$$c = 2n M_D$$"
      ],
      "metadata": {
        "id": "QlD_DKcZN07Z"
      }
    },
    {
      "cell_type": "code",
      "source": [
        "c = 2*n*M_D"
      ],
      "metadata": {
        "id": "IfmYoYReNw2P"
      },
      "execution_count": null,
      "outputs": []
    },
    {
      "cell_type": "code",
      "source": [
        "#@title c\n",
        "print(\"c = %.1f [Ns/m]\"%c)"
      ],
      "metadata": {
        "colab": {
          "base_uri": "https://localhost:8080/"
        },
        "cellView": "form",
        "id": "9K4DE7hON9rf",
        "outputId": "a6194658-b810-4028-90a9-eabe7088c8c5"
      },
      "execution_count": null,
      "outputs": [
        {
          "output_type": "stream",
          "name": "stdout",
          "text": [
            "c = 3483.5 [Ns/m]\n"
          ]
        }
      ]
    },
    {
      "cell_type": "markdown",
      "source": [
        "Calculamos $F_R$\n",
        "$$F_R = A_{max} \\cdot k$$"
      ],
      "metadata": {
        "id": "_EFA1Z7XOJwz"
      }
    },
    {
      "cell_type": "code",
      "source": [
        "F_R = A_max*k"
      ],
      "metadata": {
        "id": "K7f9hLjaOF-x"
      },
      "execution_count": null,
      "outputs": []
    },
    {
      "cell_type": "code",
      "source": [
        "#@title F_R\n",
        "print(\"F_R = %.2f [N]\"%F_R)"
      ],
      "metadata": {
        "colab": {
          "base_uri": "https://localhost:8080/"
        },
        "cellView": "form",
        "id": "7sjA2dZUOUOC",
        "outputId": "4418ff21-4005-4e5e-cfef-3c9679967802"
      },
      "execution_count": null,
      "outputs": [
        {
          "output_type": "stream",
          "name": "stdout",
          "text": [
            "F_R = 223.07 [N]\n"
          ]
        }
      ]
    },
    {
      "cell_type": "markdown",
      "source": [
        "Calculamos $F_C$\n",
        "$$F_C = A_{max} \\cdot \\omega \\cdot c$$"
      ],
      "metadata": {
        "id": "WVVVOL7dOjRi"
      }
    },
    {
      "cell_type": "code",
      "source": [
        "F_C = A_max*ω_b*c"
      ],
      "metadata": {
        "id": "ORej2sBpObAM"
      },
      "execution_count": null,
      "outputs": []
    },
    {
      "cell_type": "code",
      "source": [
        "#@title F_C\n",
        "print(\"F_C = %.3f [Ns/m]\"%F_C)"
      ],
      "metadata": {
        "colab": {
          "base_uri": "https://localhost:8080/"
        },
        "cellView": "form",
        "id": "wIu1duxKO0qF",
        "outputId": "219e3cdf-1f90-4ff0-cf18-73df51a8e0d0"
      },
      "execution_count": null,
      "outputs": [
        {
          "output_type": "stream",
          "name": "stdout",
          "text": [
            "F_C = 89.228 [Ns/m]\n"
          ]
        }
      ]
    },
    {
      "cell_type": "markdown",
      "source": [
        "Calculamos la fuerza total:\n",
        "$$F_T = \\sqrt{F_R^2 + F_C^2}$$"
      ],
      "metadata": {
        "id": "144049Q3PII3"
      }
    },
    {
      "cell_type": "code",
      "source": [
        "F_T = np.sqrt(F_R**2 + F_C**2)"
      ],
      "metadata": {
        "id": "L0jjWP67O2l8"
      },
      "execution_count": null,
      "outputs": []
    },
    {
      "cell_type": "code",
      "source": [
        "#@title F_T\n",
        "print(\"F_T = %.2f [N]\"%F_T)"
      ],
      "metadata": {
        "colab": {
          "base_uri": "https://localhost:8080/"
        },
        "cellView": "form",
        "id": "mglgXLyNPTo1",
        "outputId": "47689732-0f1f-40eb-9445-a66d31d3818e"
      },
      "execution_count": null,
      "outputs": [
        {
          "output_type": "stream",
          "name": "stdout",
          "text": [
            "F_T = 240.25 [N]\n"
          ]
        }
      ]
    },
    {
      "cell_type": "code",
      "source": [],
      "metadata": {
        "id": "Me3DOp4XPZFs"
      },
      "execution_count": null,
      "outputs": []
    }
  ]
}