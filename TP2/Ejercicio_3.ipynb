{
  "nbformat": 4,
  "nbformat_minor": 0,
  "metadata": {
    "colab": {
      "provenance": [],
      "authorship_tag": "ABX9TyOSe1zxoyClBHQBhZGXMVDW",
      "include_colab_link": true
    },
    "kernelspec": {
      "name": "python3",
      "display_name": "Python 3"
    },
    "language_info": {
      "name": "python"
    }
  },
  "cells": [
    {
      "cell_type": "markdown",
      "metadata": {
        "id": "view-in-github",
        "colab_type": "text"
      },
      "source": [
        "<a href=\"https://colab.research.google.com/github/daniel-lorenzo/Mecanica/blob/main/TP2/Ejercicio_3.ipynb\" target=\"_parent\"><img src=\"https://colab.research.google.com/assets/colab-badge.svg\" alt=\"Open In Colab\"/></a>"
      ]
    },
    {
      "cell_type": "markdown",
      "source": [
        "# Ejercicio 3\n",
        "Se tiene un ventilador centrífugo de peso $W_v$ montado sobre una cama de resortes con una constante equivalente $K_{total}$. Tiene un desbalanceamiento que genera una fuerza centrífuga excitadora $F_0$, funcionando a una velocidad $\\omega$. Se pide:\n",
        "\n",
        "1. Se decide acoplar un amortiguador, obteniendo un sistema con 20% de sobre amortiguamiento. Calcular la amplitud, velocidad y aceleración máximas. Determinar la constante de amortiguamiento viscoso $C$ del amortiguador.\n",
        "2. Calcular las fuerzas transmitidas por el muelle, el amortiguador y la fuerza total.\n",
        "3. Se desea prescindir del amortiguador con la condición que $F_1$ no sobrepase el 50% de $F_0$. Determinar la velocidad angular límite de trabajo $(\\omega_{min})$."
      ],
      "metadata": {
        "id": "pM1XcDTA3uL7"
      }
    },
    {
      "cell_type": "markdown",
      "source": [
        "![image.png](data:image/png;base64,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)"
      ],
      "metadata": {
        "id": "omFFp9zY5UPj"
      }
    },
    {
      "cell_type": "markdown",
      "source": [
        "__Ayuda__ $\\Rightarrow$ punto 3), utilizar expresión general de fuerza transmitida; precaución al despejar el cuadrado de una variable (símil expresión módulo $\\pm$). Sólo resultados con sentído físico."
      ],
      "metadata": {
        "id": "xmCUOTab5hnI"
      }
    },
    {
      "cell_type": "markdown",
      "source": [
        "## Solución"
      ],
      "metadata": {
        "id": "3vLq-lYe6HbX"
      }
    },
    {
      "cell_type": "code",
      "execution_count": null,
      "metadata": {
        "id": "SDNcS0ls3sAe"
      },
      "outputs": [],
      "source": [
        "# Datos:\n",
        "W  =  1000 # [N]\n",
        "Fo =   165 # [N]\n",
        "ω  =    27 # [1/s]\n",
        "k  = 32000 # [N/m]\n",
        "g =    9.8 # [m/s^2]"
      ]
    },
    {
      "cell_type": "code",
      "source": [
        "import numpy as np"
      ],
      "metadata": {
        "id": "jIVQw_b2Qo_6"
      },
      "execution_count": null,
      "outputs": []
    },
    {
      "cell_type": "markdown",
      "source": [
        "### a)\n",
        "Para calcular la frecuencia natural debemos, primero, calcular $M$. Como conocemos $W$, planteamos:"
      ],
      "metadata": {
        "id": "WJydUGsOCmAt"
      }
    },
    {
      "cell_type": "markdown",
      "source": [
        "$$M = \\frac{W}{g}$$"
      ],
      "metadata": {
        "id": "5Tu0a58KC_Mf"
      }
    },
    {
      "cell_type": "markdown",
      "source": [
        "Calculamos la frecuencia natural del sistema:\n",
        "\n",
        "$$p = \\sqrt{\\frac{k}{M}}$$"
      ],
      "metadata": {
        "id": "2NRpLqXADZYE"
      }
    },
    {
      "cell_type": "code",
      "source": [
        "# Masa\n",
        "M = W/g\n",
        "# Frecuencia natural\n",
        "p = np.sqrt(k/M)"
      ],
      "metadata": {
        "id": "fLoLDr23C9aC"
      },
      "execution_count": null,
      "outputs": []
    },
    {
      "cell_type": "code",
      "source": [
        "#@title Resultados intermedios\n",
        "print(\"Masa:\")\n",
        "print(\"M = %.2f [kg]\"%M)\n",
        "print(\"Frecuencia natural\")\n",
        "print(\"p = %.2f [1/s]\"%p)"
      ],
      "metadata": {
        "colab": {
          "base_uri": "https://localhost:8080/"
        },
        "cellView": "form",
        "id": "dt36bDFEDQdF",
        "outputId": "5925b111-ac92-4ddd-fbd9-1aad2e7eb502"
      },
      "execution_count": null,
      "outputs": [
        {
          "output_type": "stream",
          "name": "stdout",
          "text": [
            "Masa:\n",
            "M = 102.04 [kg]\n",
            "Frecuencia natural\n",
            "p = 17.71 [1/s]\n"
          ]
        }
      ]
    },
    {
      "cell_type": "markdown",
      "source": [
        "Debido al 20% de sobreamortiguamiento:\n",
        "$$\\frac{n}{n_c} = 1,2$$"
      ],
      "metadata": {
        "id": "O39qbR08ETDq"
      }
    },
    {
      "cell_type": "markdown",
      "source": [
        "Calculamos la amplitud máxima:\n",
        "$$A_{max} = \\frac{F_0}{k} \\cdot \\frac{1}{\\displaystyle \\sqrt{ \\left( 1 - \\frac{\\omega^2}{p^2} \\right)^2 + \\left( 2 \\frac{n}{n_c} \\frac{\\omega}{p} \\right)^2 }}$$"
      ],
      "metadata": {
        "id": "YavfF_X9EfG0"
      }
    },
    {
      "cell_type": "code",
      "source": [
        "n_nc = 1.2\n",
        "\n",
        "# Amplitud máxima\n",
        "A_max = (Fo/k)*(1/np.sqrt( (1 - ω**2/p**2)**2 + (2*n_nc*ω/p)**2 ))"
      ],
      "metadata": {
        "id": "b9k-B18IFsKp"
      },
      "execution_count": null,
      "outputs": []
    },
    {
      "cell_type": "code",
      "source": [
        "#@title Amplitud máxima\n",
        "print(\"A_max = %.5f [m]\"%A_max)"
      ],
      "metadata": {
        "colab": {
          "base_uri": "https://localhost:8080/"
        },
        "cellView": "form",
        "id": "miQVWduIGFRl",
        "outputId": "62f8bbd0-65ec-4260-86e9-7335fce9bce0"
      },
      "execution_count": null,
      "outputs": [
        {
          "output_type": "stream",
          "name": "stdout",
          "text": [
            "A_max = 0.00132 [m]\n"
          ]
        }
      ]
    },
    {
      "cell_type": "markdown",
      "source": [
        "Calculamos la velocidad máxima:\n",
        "$$v_{max} = \\omega \\cdot A_{max}$$"
      ],
      "metadata": {
        "id": "Xky-olbVG0Db"
      }
    },
    {
      "cell_type": "code",
      "source": [
        "v_max = ω*A_max"
      ],
      "metadata": {
        "id": "Y-fMzvNqTTNw"
      },
      "execution_count": null,
      "outputs": []
    },
    {
      "cell_type": "code",
      "source": [
        "#@title Velocidad máxima\n",
        "print(\"v_max = %.4f [m/s]\"%v_max)"
      ],
      "metadata": {
        "colab": {
          "base_uri": "https://localhost:8080/"
        },
        "cellView": "form",
        "id": "ctnYJJn1HElf",
        "outputId": "a53a01b0-8f49-4ab8-adcf-a28b6aab84a8"
      },
      "execution_count": null,
      "outputs": [
        {
          "output_type": "stream",
          "name": "stdout",
          "text": [
            "v_max = 0.0358 [m/s]\n"
          ]
        }
      ]
    },
    {
      "cell_type": "markdown",
      "source": [
        "Calculamos la aceleración máxima:\n",
        "$$a_{max} = \\omega^2 \\cdot A_{max}$$"
      ],
      "metadata": {
        "id": "CUkOz74vHwny"
      }
    },
    {
      "cell_type": "code",
      "source": [
        "# Aceleración máxima\n",
        "a_max = ω**2 * A_max"
      ],
      "metadata": {
        "id": "DQ9pZRHGHWSv"
      },
      "execution_count": null,
      "outputs": []
    },
    {
      "cell_type": "code",
      "source": [
        "#@title Aceleración máxima\n",
        "print(\"a_max = %.3f [m/s^2]\"%a_max)"
      ],
      "metadata": {
        "colab": {
          "base_uri": "https://localhost:8080/"
        },
        "cellView": "form",
        "id": "Fr7wwjoHH-IN",
        "outputId": "a1338cf1-3894-44ee-fda7-f25d0dd58136"
      },
      "execution_count": null,
      "outputs": [
        {
          "output_type": "stream",
          "name": "stdout",
          "text": [
            "a_max = 0.966 [m/s^2]\n"
          ]
        }
      ]
    },
    {
      "cell_type": "markdown",
      "source": [
        "Calculamos la constante de amortiguamiento viscoso c para un sistema con 20% de sobreamortiguamiento $n=1,2p$"
      ],
      "metadata": {
        "id": "SyuE_BS0KrPN"
      }
    },
    {
      "cell_type": "markdown",
      "source": [
        "$$c = 2 n M$$"
      ],
      "metadata": {
        "id": "BURPwbb0K2dr"
      }
    },
    {
      "cell_type": "code",
      "source": [
        "n = 1.2*p\n",
        "\n",
        "c = 2*n*M"
      ],
      "metadata": {
        "id": "EOq1uO54KlBD"
      },
      "execution_count": null,
      "outputs": []
    },
    {
      "cell_type": "code",
      "source": [
        "#@title Amortiguamiento viscoso\n",
        "print(\"c = %.2f [kg/s]\"%c)"
      ],
      "metadata": {
        "colab": {
          "base_uri": "https://localhost:8080/"
        },
        "cellView": "form",
        "id": "YsMnlP_ELApr",
        "outputId": "6ca9919e-ec90-4108-822a-33895e5dd175"
      },
      "execution_count": null,
      "outputs": [
        {
          "output_type": "stream",
          "name": "stdout",
          "text": [
            "c = 4336.84 [kg/s]\n"
          ]
        }
      ]
    },
    {
      "cell_type": "markdown",
      "source": [
        "---\n",
        "### b) Calculamos la fuerza transmitida del resorte:"
      ],
      "metadata": {
        "id": "OvDdcjq9MK8v"
      }
    },
    {
      "cell_type": "markdown",
      "source": [
        "$$F_R = A_{max} \\cdot k$$"
      ],
      "metadata": {
        "id": "fTgVAPa8MU-t"
      }
    },
    {
      "cell_type": "code",
      "source": [
        "# Fuerza transmitida por el resorte\n",
        "F_R = A_max*k"
      ],
      "metadata": {
        "id": "U8I2LCIiMDV1"
      },
      "execution_count": null,
      "outputs": []
    },
    {
      "cell_type": "code",
      "source": [
        "#@title Fuerza transmitida del resorte\n",
        "print(\"F_R = %.2f [N]\"%F_R)"
      ],
      "metadata": {
        "colab": {
          "base_uri": "https://localhost:8080/"
        },
        "cellView": "form",
        "id": "SXc6BD3gMaU0",
        "outputId": "dd43026d-0c12-4214-aed0-a904a99043a2"
      },
      "execution_count": null,
      "outputs": [
        {
          "output_type": "stream",
          "name": "stdout",
          "text": [
            "F_R = 42.40 [N]\n"
          ]
        }
      ]
    },
    {
      "cell_type": "markdown",
      "source": [
        "Calculamos la fuerza transmitida por el amortiguador:\n",
        "\n",
        "$$F_C = A_{max} \\cdot \\omega \\cdot c$$"
      ],
      "metadata": {
        "id": "9FrYSL3MMq1T"
      }
    },
    {
      "cell_type": "code",
      "source": [
        "# Fuerza transmitida por el amortiguador\n",
        "F_C = A_max*ω*c"
      ],
      "metadata": {
        "id": "UgRgRLT-Mjqj"
      },
      "execution_count": null,
      "outputs": []
    },
    {
      "cell_type": "code",
      "source": [
        "#@title Fuerza transmitida por el amortiguador\n",
        "print(\"F_C = %.2f [N]\"%F_C)"
      ],
      "metadata": {
        "colab": {
          "base_uri": "https://localhost:8080/"
        },
        "cellView": "form",
        "id": "hcm9GjInM-Mo",
        "outputId": "a9748dbb-4805-41a7-e60b-5cc2942cbf0d"
      },
      "execution_count": null,
      "outputs": [
        {
          "output_type": "stream",
          "name": "stdout",
          "text": [
            "F_C = 155.15 [N]\n"
          ]
        }
      ]
    },
    {
      "cell_type": "markdown",
      "source": [
        "Calculamos la fuerza total:\n",
        "$$F_T = \\sqrt{F_R^2 + F_C^2}$$"
      ],
      "metadata": {
        "id": "4qa_mz9GNciw"
      }
    },
    {
      "cell_type": "code",
      "source": [
        "# Fuerza total\n",
        "F_T = np.sqrt( F_R**2 + F_C**2 )"
      ],
      "metadata": {
        "id": "NK_SnwnYNYbr"
      },
      "execution_count": null,
      "outputs": []
    },
    {
      "cell_type": "code",
      "source": [
        "#@title Fuerza total\n",
        "print(\"F_T = %.2f [N]\"%F_T)"
      ],
      "metadata": {
        "colab": {
          "base_uri": "https://localhost:8080/"
        },
        "cellView": "form",
        "id": "5lcY_KJwNun1",
        "outputId": "15178188-c8e2-4740-b528-503ddde8527d"
      },
      "execution_count": null,
      "outputs": [
        {
          "output_type": "stream",
          "name": "stdout",
          "text": [
            "F_T = 160.84 [N]\n"
          ]
        }
      ]
    },
    {
      "cell_type": "markdown",
      "source": [
        "---\n",
        "### c) Para un sistema sin amortiguador las condiciones son:\n",
        "\n",
        "$$\\frac{F_T}{F_0} = 0,5 \\qquad y \\qquad n = 0$$"
      ],
      "metadata": {
        "id": "bW1nZJKTOApt"
      }
    },
    {
      "cell_type": "markdown",
      "source": [
        "Dado que no hay amortiguamiento, panteamos una fórmula reducida:"
      ],
      "metadata": {
        "id": "Fm-7oU7cOX5B"
      }
    },
    {
      "cell_type": "markdown",
      "source": [
        "$$\\frac{F_T}{F_0} = \\frac{1}{\\displaystyle \\sqrt{\\left( 1 - \\frac{\\omega^2_{lim}}{p^2} \\right)^2} }$$"
      ],
      "metadata": {
        "id": "J9Wxzu1IOgI7"
      }
    },
    {
      "cell_type": "markdown",
      "source": [
        "Despejando obtenemos $\\omega_{lim}$"
      ],
      "metadata": {
        "id": "u4QWagVVPfq2"
      }
    },
    {
      "cell_type": "markdown",
      "source": [
        "$$\\frac{F_0}{F_T} = \\left| 1 - \\frac{\\omega^2_{lim}}{p^2} \\right|$$"
      ],
      "metadata": {
        "id": "djCOcXTDPy05"
      }
    },
    {
      "cell_type": "markdown",
      "source": [
        "$$\\pm \\frac{F_0}{F_T} = 1 - \\frac{\\omega^2_{lim}}{p^2}$$"
      ],
      "metadata": {
        "id": "qbe04R_pQP1l"
      }
    },
    {
      "cell_type": "markdown",
      "source": [
        "$$\\frac{\\omega^2_{lim}}{p^2} = 1 \\pm \\frac{F_0}{F_T}$$"
      ],
      "metadata": {
        "id": "ZoGuge-vQmqB"
      }
    },
    {
      "cell_type": "markdown",
      "source": [
        "$$\\omega^2_{lim} = p^2 \\left( 1 \\pm \\frac{F_0}{F_T} \\right)$$"
      ],
      "metadata": {
        "id": "b2_7lsWtRP0C"
      }
    },
    {
      "cell_type": "markdown",
      "source": [
        "$$|\\omega_{lim}| = \\pm \\sqrt{ p^2 \\left( 1 \\pm \\frac{F_0}{F_T} \\right) }$$"
      ],
      "metadata": {
        "id": "jwSqVycYR0XN"
      }
    },
    {
      "cell_type": "code",
      "source": [
        "ω_lim = np.sqrt(p**2 * (1 + 1/0.5))"
      ],
      "metadata": {
        "id": "5_tRB12sN5qO"
      },
      "execution_count": null,
      "outputs": []
    },
    {
      "cell_type": "code",
      "source": [
        "#@title Velocidad angular límite\n",
        "print(\"ω_lim = %.2f [1/s]\"%ω_lim)"
      ],
      "metadata": {
        "colab": {
          "base_uri": "https://localhost:8080/"
        },
        "cellView": "form",
        "id": "_QsNchPdSUTq",
        "outputId": "f7d41cbf-82f1-4809-f0ca-fdd97282460c"
      },
      "execution_count": null,
      "outputs": [
        {
          "output_type": "stream",
          "name": "stdout",
          "text": [
            "ω_lim = 30.67 [1/s]\n"
          ]
        }
      ]
    },
    {
      "cell_type": "code",
      "source": [],
      "metadata": {
        "id": "jQeFc5kmUWnO"
      },
      "execution_count": null,
      "outputs": []
    }
  ]
}