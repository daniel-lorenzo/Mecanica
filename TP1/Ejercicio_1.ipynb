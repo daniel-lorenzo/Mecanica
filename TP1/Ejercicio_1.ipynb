{
  "nbformat": 4,
  "nbformat_minor": 0,
  "metadata": {
    "colab": {
      "provenance": [],
      "authorship_tag": "ABX9TyNZ/OL37J5QC5Jt8Lw4Ftnv",
      "include_colab_link": true
    },
    "kernelspec": {
      "name": "python3",
      "display_name": "Python 3"
    },
    "language_info": {
      "name": "python"
    }
  },
  "cells": [
    {
      "cell_type": "markdown",
      "metadata": {
        "id": "view-in-github",
        "colab_type": "text"
      },
      "source": [
        "<a href=\"https://colab.research.google.com/github/daniel-lorenzo/Mecanica/blob/main/TP1/Ejercicio_1.ipynb\" target=\"_parent\"><img src=\"https://colab.research.google.com/assets/colab-badge.svg\" alt=\"Open In Colab\"/></a>"
      ]
    },
    {
      "cell_type": "markdown",
      "metadata": {
        "id": "_Aq-ZCzuUWfo"
      },
      "source": [
        "# Vibraciones libres amortiguadas"
      ]
    },
    {
      "cell_type": "markdown",
      "metadata": {
        "id": "u1WvMkDbUgq2"
      },
      "source": [
        "## Ejercicio n°1\n",
        "En el sistema indicado en la figura, se determina que bajo la aplicación de la fuerza $F$ se produce un desplazamiento $\\delta$ verificándose que el sistema vibra a una frecuencia $f$."
      ]
    },
    {
      "cell_type": "markdown",
      "metadata": {
        "id": "HL1HdRdmWA8d"
      },
      "source": [
        "![imagen.png](data:image/png;base64,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)"
      ]
    },
    {
      "cell_type": "markdown",
      "source": [
        "Se pide:\n",
        "- Determinar el valor de la masa $m$."
      ],
      "metadata": {
        "id": "Tyom4IQXPxhY"
      }
    },
    {
      "cell_type": "markdown",
      "metadata": {
        "id": "kfLfWCIaWxFj"
      },
      "source": [
        "### Solución\n",
        "Las dos propiedades de un cuerpo que predominan en su respuesta vibratoria ante una exitación, son las rigidez y el amortiguamiento. Si bien cada una de dichas propiedades se caracteriza con un esquema o símbolo, por ejemplo, rigidez con un muelle, no siempre es físicamente cierto."
      ]
    },
    {
      "cell_type": "markdown",
      "metadata": {
        "id": "l9lMQfwMzEVH"
      },
      "source": [
        "**Frecuencia natural del sistema**\n",
        "\n",
        "$$p = \\sqrt{\\frac{k}{m}} \\tag{1}$$\n",
        "$k$ : rigidez     \n",
        "$m$ : masa"
      ]
    },
    {
      "cell_type": "markdown",
      "source": [
        "De $(1)$ despejamos $m$\n",
        "$$ p^2 = \\frac{k}{m}  \\qquad \\Rightarrow \\qquad m = \\frac{k}{p^2} $$"
      ],
      "metadata": {
        "id": "LDykQV5PTiia"
      }
    },
    {
      "cell_type": "markdown",
      "metadata": {
        "id": "-7VWXDKQzaeA"
      },
      "source": [
        "Para un sistema conservativo (energía potencial elástica almacenada), se cumple:"
      ]
    },
    {
      "cell_type": "markdown",
      "source": [
        "$$F = k \\delta \\tag{2}$$"
      ],
      "metadata": {
        "id": "6sA3jFs1QLNV"
      }
    },
    {
      "cell_type": "markdown",
      "source": [
        "De $(2)$ despejamos $k$\n",
        "$$k = \\frac{F}{\\delta}$$"
      ],
      "metadata": {
        "id": "ljEVgvRXUwi5"
      }
    },
    {
      "cell_type": "markdown",
      "source": [
        "$$k = \\mathrm{\\frac{30 \\; N}{5 \\times 10^{-3} \\; m} = 6000 \\; N/m}$$"
      ],
      "metadata": {
        "id": "zoZYm3ExgNlh"
      }
    },
    {
      "cell_type": "markdown",
      "metadata": {
        "id": "o1sIr-Cf0DG8"
      },
      "source": [
        "La conversión de unidades de frecuencia, de Hz (ciclos/s) a $1/s$, se encuentra determinada por la expresión siguiente:"
      ]
    },
    {
      "cell_type": "markdown",
      "source": [
        "$$p = \\omega = 2 \\pi f \\tag{3}$$"
      ],
      "metadata": {
        "id": "HWf5tS0pQ63B"
      }
    },
    {
      "cell_type": "markdown",
      "source": [
        "$$p = \\mathrm{2 \\pi (10 \\; Hz) = 62,832 \\; 1/s}$$"
      ],
      "metadata": {
        "id": "gpo93nEigq4q"
      }
    },
    {
      "cell_type": "markdown",
      "source": [
        "Entonces, reemplazamos en $(1)$\n",
        "$$m = \\mathrm{\\frac{6000 \\; N/m}{(62,832 \\; 1/s)^2} \\approx 1,520 \\; kg}$$"
      ],
      "metadata": {
        "id": "3e0xeBb8hBAP"
      }
    },
    {
      "cell_type": "markdown",
      "source": [
        "Resolución en python:"
      ],
      "metadata": {
        "id": "_W0tnEzNXRPP"
      }
    },
    {
      "cell_type": "code",
      "metadata": {
        "id": "ftNgL1HgcmFp"
      },
      "source": [
        "# Datos: (Grupo 1)\n",
        "F = 30   # [N]   (fuerza)\n",
        "δ = 5e-3 # [m]   (desplazamiento)\n",
        "f = 10   # [Hz]  (frecuencia)"
      ],
      "execution_count": null,
      "outputs": []
    },
    {
      "cell_type": "code",
      "metadata": {
        "id": "yu_pramqdF1c"
      },
      "source": [
        "import numpy as np  # importa biblioteca numpy como np"
      ],
      "execution_count": null,
      "outputs": []
    },
    {
      "cell_type": "code",
      "metadata": {
        "id": "zOh5LVqydMDA"
      },
      "source": [
        "# Constante (k)\n",
        "k = F/δ\n",
        "# Frecuencia angular (ω)\n",
        "ω = 2*np.pi*f\n",
        "# Frecuencia natural (p)\n",
        "p = ω\n",
        "# Masa (m)\n",
        "m = k/p**2"
      ],
      "execution_count": null,
      "outputs": []
    },
    {
      "cell_type": "code",
      "metadata": {
        "colab": {
          "base_uri": "https://localhost:8080/"
        },
        "cellView": "form",
        "id": "8ylbJnoueHBa",
        "outputId": "f1769554-7e35-47ad-c367-209178d3b785"
      },
      "source": [
        "#@title Resultados:\n",
        "print(\"Frecuencia natural:\")\n",
        "print('p = %.3f [1/s] '%p)\n",
        "print(\"\\nRigidez:\")\n",
        "print('k = %.0f [N/m]'%k)\n",
        "print(\"\\nMasa:\")\n",
        "print('m = %.3f [kg]'%m)"
      ],
      "execution_count": null,
      "outputs": [
        {
          "output_type": "stream",
          "name": "stdout",
          "text": [
            "Frecuencia natural:\n",
            "p = 62.832 [1/s] \n",
            "\n",
            "Rigidez:\n",
            "k = 6000 [N/m]\n",
            "\n",
            "Masa:\n",
            "m = 1.520 [kg]\n"
          ]
        }
      ]
    }
  ]
}