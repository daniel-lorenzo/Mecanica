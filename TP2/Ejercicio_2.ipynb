{
  "nbformat": 4,
  "nbformat_minor": 0,
  "metadata": {
    "colab": {
      "provenance": [],
      "authorship_tag": "ABX9TyMGlcX4OpRvU9fsdS/QyBTK",
      "include_colab_link": true
    },
    "kernelspec": {
      "name": "python3",
      "display_name": "Python 3"
    },
    "language_info": {
      "name": "python"
    }
  },
  "cells": [
    {
      "cell_type": "markdown",
      "metadata": {
        "id": "view-in-github",
        "colab_type": "text"
      },
      "source": [
        "<a href=\"https://colab.research.google.com/github/daniel-lorenzo/Mecanica/blob/main/TP2/Ejercicio_2.ipynb\" target=\"_parent\"><img src=\"https://colab.research.google.com/assets/colab-badge.svg\" alt=\"Open In Colab\"/></a>"
      ]
    },
    {
      "cell_type": "markdown",
      "metadata": {
        "id": "06QKtEmEUBCq"
      },
      "source": [
        "# Ejercicio 2\n",
        "El rotor de un motor eléctrico tiene una masa $M_r$, su centro de masa en el punto medio entre cojinetes y separado una distancia $e$ del eje de giro. El motor tiene masa total $M_m$ y origina una deformación estática $\\delta$ en el conjunto de los resortes de su base."
      ]
    },
    {
      "cell_type": "markdown",
      "metadata": {
        "id": "nJ5iboLNrWVp"
      },
      "source": [
        "![image.png](data:image/png;base64,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)"
      ]
    },
    {
      "cell_type": "markdown",
      "source": [
        "## Solución"
      ],
      "metadata": {
        "id": "jBQqJkdHw0qL"
      }
    },
    {
      "cell_type": "code",
      "metadata": {
        "id": "Lj1LFdRx67iH"
      },
      "source": [
        "# Datos:\n",
        "M_m = 34.5   # [kg]\n",
        "delta = 3e-3 # [m]\n",
        "M_r = 15     # [kg]\n",
        "e = 0.20e-3  # [m]\n",
        "g = 9.81     # [m/s**2]"
      ],
      "execution_count": 1,
      "outputs": []
    },
    {
      "cell_type": "markdown",
      "metadata": {
        "id": "nY0RZaG6rf29"
      },
      "source": [
        "__Determinar:__\n",
        "### a) La velocidad a la que no debe funcionar el motor, expresada en rpm.\n",
        "\n",
        "Se sabe que debe evitarse la condición de resonancia, es decir, aquella velocidad de funcionamiento cuya pulsación resulte igual a la natural del sistema, por esta razón:"
      ]
    },
    {
      "cell_type": "markdown",
      "metadata": {
        "id": "WHwHFA6ysYQD"
      },
      "source": [
        "$$ \\omega_{prohibida} = n_c = p = \\sqrt{ \\frac{k}{m} } \\qquad ; \\qquad \\mbox{recordando que: } \\quad \\delta_{est} k = g M_m $$"
      ]
    },
    {
      "cell_type": "code",
      "metadata": {
        "id": "AYM5kQyL7_Kl"
      },
      "source": [
        "import numpy as np"
      ],
      "execution_count": 2,
      "outputs": []
    },
    {
      "cell_type": "code",
      "metadata": {
        "id": "ea12_WQs7tbU"
      },
      "source": [
        "k = g*M_m/delta\n",
        "p = np.sqrt(k/(M_m + M_r) )\n",
        "n_c = p\n",
        "w_pr = n_c"
      ],
      "execution_count": 3,
      "outputs": []
    },
    {
      "cell_type": "markdown",
      "metadata": {
        "id": "uP-NlXbi8sct"
      },
      "source": [
        "$$\\color{green}{ \\mathrm{ \\left( \\frac{rad}{s} \\right) \\cdot \\left( \\frac{1 \\; rev}{2 \\pi \\; rad} \\right) \\cdot \\left( \\frac{60 \\, s}{1 \\; min} \\right) \\quad \\rightarrow \\quad \\frac{rev}{min} } }$$"
      ]
    },
    {
      "cell_type": "code",
      "metadata": {
        "colab": {
          "base_uri": "https://localhost:8080/"
        },
        "cellView": "form",
        "id": "F7iVBX4U8dYf",
        "outputId": "1f4567a7-8e33-4e09-889a-5b3674d458ca"
      },
      "source": [
        "#@title Velocidad a la que no debe funcionar el motor\n",
        "print('w_pr = %.3f [rad/s]'%w_pr)\n",
        "print('w_pr = %.2f [rpm]'%(w_pr*1/(2*np.pi)*(60/1) ))"
      ],
      "execution_count": 4,
      "outputs": [
        {
          "output_type": "stream",
          "name": "stdout",
          "text": [
            "w_pr = 47.740 [rad/s]\n",
            "w_pr = 455.88 [rpm]\n"
          ]
        }
      ]
    },
    {
      "cell_type": "markdown",
      "metadata": {
        "id": "1Qf44i82tCZB"
      },
      "source": [
        "### b) La amplitud vertical del movimiento no amortiguado cuando gira al doble de la velocidad no permitida."
      ]
    },
    {
      "cell_type": "markdown",
      "metadata": {
        "id": "cIxGSaNutNaN"
      },
      "source": [
        "Para determinar la amplitud del movimiento forzado, tendremos que averiguar el valor de la fuerza excitadora $F_0$. En este caso, la excitación del sistema esta provista por la excentricidad con que se ha montado el rotor, por lo tanto:"
      ]
    },
    {
      "cell_type": "markdown",
      "metadata": {
        "id": "Nmy8sA9jtkQJ"
      },
      "source": [
        "$$ F_0 = M_r \\omega_b^2 e \\qquad; \\qquad\\mbox{con: } \\quad \\omega_b = 2 \\omega_{prohibida} $$"
      ]
    },
    {
      "cell_type": "code",
      "metadata": {
        "id": "KZqmw8PuqhEu"
      },
      "source": [
        "w_b = 2*w_pr\n",
        "Fo = M_r*(w_b**2)*e"
      ],
      "execution_count": 5,
      "outputs": []
    },
    {
      "cell_type": "code",
      "metadata": {
        "colab": {
          "base_uri": "https://localhost:8080/"
        },
        "cellView": "form",
        "id": "Zrt01xcfzddk",
        "outputId": "6ac5120f-fb84-49eb-95ac-0aa9df0ff70d"
      },
      "source": [
        "#@title Resultados:\n",
        "print('w_b = %.2f [rpm]'%(w_b/(2*np.pi)*60  ))\n",
        "print('Fo = %.3f [N]'%Fo)"
      ],
      "execution_count": 6,
      "outputs": [
        {
          "output_type": "stream",
          "name": "stdout",
          "text": [
            "w_b = 911.76 [rpm]\n",
            "Fo = 27.349 [N]\n"
          ]
        }
      ]
    },
    {
      "cell_type": "markdown",
      "metadata": {
        "id": "NAj8FQOcuIgd"
      },
      "source": [
        "Si $n=0$ (sistema sin amortiguamiento) $\\Longrightarrow \\; A_{max} = \\; ?$"
      ]
    },
    {
      "cell_type": "markdown",
      "metadata": {
        "id": "4UYqzXgvsQZN"
      },
      "source": [
        "$$\\color{green}{ A_{max} = {F_0/k \\over \\displaystyle 1 - \\frac{\\omega_b^2}{p^2} } }$$"
      ]
    },
    {
      "cell_type": "code",
      "metadata": {
        "id": "cM4EV6idsw2s"
      },
      "source": [
        "A_max = (Fo/k)/abs(1 - (w_b/p)**2 )"
      ],
      "execution_count": 7,
      "outputs": []
    },
    {
      "cell_type": "code",
      "metadata": {
        "colab": {
          "base_uri": "https://localhost:8080/"
        },
        "cellView": "form",
        "id": "ux8GomMStZYd",
        "outputId": "83eadc52-0ad1-4386-e1b0-45528d89b308"
      },
      "source": [
        "#@title Amplitud vertical cuando gira al doble de la velocidad no permitida\n",
        "print('A_max = %.4f [mm]'%(A_max*1000))"
      ],
      "execution_count": 8,
      "outputs": [
        {
          "output_type": "stream",
          "name": "stdout",
          "text": [
            "A_max = 0.0808 [mm]\n"
          ]
        }
      ]
    },
    {
      "cell_type": "markdown",
      "metadata": {
        "id": "b1fh2AqT32FC"
      },
      "source": [
        "### c) El amortiguamiento necesario para limitar el movimiento en un 20%, trabajando a la velocidad del punto b."
      ]
    },
    {
      "cell_type": "markdown",
      "metadata": {
        "id": "u3SF9My84A0-"
      },
      "source": [
        "Si $A \\; \\downarrow \\; 20 \\% \\; \\Rightarrow \\; A_c = 0,8 A_b \\quad , \\quad n_c = p \\quad , \\quad \\omega_c = \\omega_b = 2p$"
      ]
    },
    {
      "cell_type": "markdown",
      "metadata": {
        "id": "Cu1nNw-W4k2g"
      },
      "source": [
        "$$ 0,8 A_b = \\frac{ F_0/k }{\\displaystyle \\sqrt{ \\left( 1 - \\frac{\\omega_c^2}{p^2} \\right)^2 + \\left( 2 \\frac{n}{n_c} \\frac{\\omega_c}{p} \\right)^2 } } \\quad \\Rightarrow \\quad\n",
        "\\left\\{\n",
        "\\begin{array}{l}\n",
        "n = \\, ? \\\\\n",
        "n_c = \\, ?\n",
        "\\end{array}\n",
        "\\right. $$"
      ]
    },
    {
      "cell_type": "markdown",
      "metadata": {
        "id": "oMZsn2tR6kgH"
      },
      "source": [
        "$$ n = \\frac{1}{2} \\frac{n_c p}{\\omega_c} \\sqrt{ \\left( \\frac{F_0/k}{0,8 A_b} \\right)^2 - \\left( 1 - \\frac{\\omega_c^2}{p^2} \\right)^2 } $$"
      ]
    },
    {
      "cell_type": "code",
      "metadata": {
        "id": "PGYCtMFvwrMH"
      },
      "source": [
        "w_c = 2*p\n",
        "A_b = A_max\n",
        "n_3 = (1/2)*(n_c*p/w_c)*np.sqrt( ((Fo/k)/(0.8*A_b))**2 - (1 - w_c**2/p**2)**2 )"
      ],
      "execution_count": 9,
      "outputs": []
    },
    {
      "cell_type": "code",
      "metadata": {
        "colab": {
          "base_uri": "https://localhost:8080/"
        },
        "cellView": "form",
        "id": "GQXj2x9A79Ou",
        "outputId": "a69b4d06-a28e-4f08-91de-9560823d1acd"
      },
      "source": [
        "#@title Amortiguamiento para limitar el movimiento en un 20% a veloc. del punto b\n",
        "print('n_3 = %.4f'%n_3)\n",
        "print('n_c = %.4f'%n_c)"
      ],
      "execution_count": 10,
      "outputs": [
        {
          "output_type": "stream",
          "name": "stdout",
          "text": [
            "n_3 = 26.8537\n",
            "n_c = 47.7398\n"
          ]
        }
      ]
    },
    {
      "cell_type": "markdown",
      "metadata": {
        "id": "ltYhdMA6ufO_"
      },
      "source": [
        "### d) La fuerza transmitida en los casos 2) y 3). Comentar la diferencia entre los valores obtenidos."
      ]
    },
    {
      "cell_type": "markdown",
      "metadata": {
        "id": "yt0BCsOPup1V"
      },
      "source": [
        "La fuerza transmitida a la fundación se obtiene a partir de la expresión general:"
      ]
    },
    {
      "cell_type": "markdown",
      "metadata": {
        "id": "SU6HvaW8uxSJ"
      },
      "source": [
        "$$ F_{transmitida} = F_0 \\, \\frac{\\displaystyle \\sqrt{1 + \\left( 2 \\frac{n}{n_c} \\frac{\\omega}{p} \\right)^2 } }{\\displaystyle \\sqrt{ \\left( 1 - \\frac{\\omega^2}{p^2} \\right)^2 + \\left( 2 \\frac{n}{n_c} \\frac{\\omega}{p} \\right)^2 } }$$"
      ]
    },
    {
      "cell_type": "code",
      "metadata": {
        "id": "SpnjRbLzR_Xq"
      },
      "source": [
        "n_2 = 0\n",
        "\n",
        "F_2trans = Fo*np.sqrt(1 + (2*(n_2/n_c)*w_b/p)**2 )/ \\\n",
        "           np.sqrt( (1 - w_b**2/p**2)**2 + (2*(n_2/n_c)*w_b/p)**2 )\n",
        "\n",
        "F_3trans = Fo*np.sqrt(1 + (2*(n_3/n_c)*w_c/p)**2 )/ \\\n",
        "           np.sqrt( (1 - w_c**2/p**2)**2 + (2*(n_3/n_c)*w_c/p)**2 )"
      ],
      "execution_count": 11,
      "outputs": []
    },
    {
      "cell_type": "code",
      "metadata": {
        "colab": {
          "base_uri": "https://localhost:8080/"
        },
        "cellView": "form",
        "id": "dGWadfwsTB8A",
        "outputId": "3ab747c3-42ff-4976-b73a-a0ae068ce34b"
      },
      "source": [
        "#@title Resultados:\n",
        "print('F_2trans = %.3f [N]'%F_2trans)\n",
        "print('F_3trans = %.3f [N]'%F_3trans)"
      ],
      "execution_count": 12,
      "outputs": [
        {
          "output_type": "stream",
          "name": "stdout",
          "text": [
            "F_2trans = 9.116 [N]\n",
            "F_3trans = 17.957 [N]\n"
          ]
        }
      ]
    },
    {
      "cell_type": "markdown",
      "metadata": {
        "id": "2fXYnkdsv-wS"
      },
      "source": [
        "No obstante, como la fuerza transmitida es un versor, puede calcularse a partir de sus componentes:"
      ]
    },
    {
      "cell_type": "markdown",
      "metadata": {
        "id": "HEXRmW5LwNBf"
      },
      "source": [
        "$$\\begin{array}{ll}\n",
        " F_{total} = \\sqrt{ F_k^2 + F_c^2 } \\\\\n",
        " F_k = xk & \\mbox{(fuerza - muelle)} \\\\\n",
        " F_c = \\omega x c & \\mbox{(fuerza - amortiguador)}\n",
        " \\end{array} $$"
      ]
    },
    {
      "cell_type": "code",
      "metadata": {
        "id": "Qb3pvr0dcxy-"
      },
      "source": [],
      "execution_count": null,
      "outputs": []
    }
  ]
}