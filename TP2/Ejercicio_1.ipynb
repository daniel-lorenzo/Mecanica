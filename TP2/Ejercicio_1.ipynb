{
  "nbformat": 4,
  "nbformat_minor": 0,
  "metadata": {
    "colab": {
      "provenance": [],
      "authorship_tag": "ABX9TyO8kduUdiQNkVHaJ9j3+Hf4",
      "include_colab_link": true
    },
    "kernelspec": {
      "name": "python3",
      "display_name": "Python 3"
    },
    "language_info": {
      "name": "python"
    }
  },
  "cells": [
    {
      "cell_type": "markdown",
      "metadata": {
        "id": "view-in-github",
        "colab_type": "text"
      },
      "source": [
        "<a href=\"https://colab.research.google.com/github/daniel-lorenzo/Mecanica/blob/main/TP2/Ejercicio_1.ipynb\" target=\"_parent\"><img src=\"https://colab.research.google.com/assets/colab-badge.svg\" alt=\"Open In Colab\"/></a>"
      ]
    },
    {
      "cell_type": "markdown",
      "metadata": {
        "id": "QHa5Ylwq56nV"
      },
      "source": [
        "# Ejercicio 1\n",
        "Se requiere que la mesa cribadora observada en la figura se mueva con amplitud $A$, a una frecuencia de accionamiento $f$."
      ]
    },
    {
      "cell_type": "markdown",
      "metadata": {
        "id": "O1WcaGOp7Ee_"
      },
      "source": [
        "![image.png](data:image/png;base64,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)"
      ]
    },
    {
      "cell_type": "markdown",
      "source": [
        "## Solución"
      ],
      "metadata": {
        "id": "sKvXDKjvwfCm"
      }
    },
    {
      "cell_type": "code",
      "metadata": {
        "id": "jucjmpdQWs4m"
      },
      "source": [
        "# Datos: (grupo 1)\n",
        "M = 33      # [kg]\n",
        "A = 1.70e-3 # [m]\n",
        "f = 5       # [Hz]\n",
        "n_nc = 0.06"
      ],
      "execution_count": 1,
      "outputs": []
    },
    {
      "cell_type": "code",
      "metadata": {
        "id": "MoT8T_9xYNB3"
      },
      "source": [
        "import numpy as np"
      ],
      "execution_count": 2,
      "outputs": []
    },
    {
      "cell_type": "markdown",
      "metadata": {
        "id": "hYKqn-ty7ZW4"
      },
      "source": [
        "---\n",
        "### 1) Considerar cual debería se la constante $k$ de los soportes y la fuerza a aplicar $F_0$, admitiendo que el punto de trabajo sea en resonancia."
      ]
    },
    {
      "cell_type": "markdown",
      "metadata": {
        "id": "ZHhBIfV-7_Ki"
      },
      "source": [
        "La expresión que describe el movimiento de un sistema de 1 grado de libertad frente a una fuente excitatriz forzada (excitación continua) es:"
      ]
    },
    {
      "cell_type": "markdown",
      "metadata": {
        "id": "jsoX_sd0Zubi"
      },
      "source": [
        "$$ A = \\frac{F_0 / k}{ \\displaystyle \\sqrt{ \\left( 1- \\frac{\\omega^2}{p^2} \\right)^2 + \\left( 2 \\frac{n}{n_c} \\frac{\\omega}{p} \\right)^2 } } \\cdot \\sin ( \\omega t + \\phi ) $$"
      ]
    },
    {
      "cell_type": "markdown",
      "metadata": {
        "id": "4okqDJsOjCGm"
      },
      "source": [
        "Los valores máximos, incluyendo las derivadas (velocidad y aceleración), se obtienen considerando la función trigonométrica igual a 1, de manera que:"
      ]
    },
    {
      "cell_type": "markdown",
      "metadata": {
        "id": "J9vnhgEuj02d"
      },
      "source": [
        "$$ A = \\frac{F_0 / k}{ \\displaystyle \\sqrt{ \\left( 1- \\frac{\\omega^2}{p^2} \\right)^2 + \\left( 2 \\frac{n}{n_c} \\frac{\\omega}{p} \\right)^2 } } $$"
      ]
    },
    {
      "cell_type": "markdown",
      "metadata": {
        "id": "eMBzQbf-j7Ft"
      },
      "source": [
        "$$ V_{max} = \\omega A_{max} $$"
      ]
    },
    {
      "cell_type": "markdown",
      "metadata": {
        "id": "tnK0YWFYkIaC"
      },
      "source": [
        "$$ a_{max} = -\\omega^2 A_{max} $$"
      ]
    },
    {
      "cell_type": "markdown",
      "metadata": {
        "id": "IZGsrz4TkYk7"
      },
      "source": [
        "Recordando que:\n",
        "* La condición de resonancia ocurre cuando la frecuencia de trabajo $\\omega$ es igual (o en cercanías) a la frecuencia natural del sistema: $\\omega = p$\n",
        "* La relación entre la frecuencia angular $\\omega$ y la frecuencia $f$ es $\\omega = 2 \\pi f$\n",
        "* Y la frecuencia natural del sistema es: $\\displaystyle p = \\sqrt{ \\frac{k}{m} }$"
      ]
    },
    {
      "cell_type": "code",
      "metadata": {
        "id": "nFqfofpvYUJ6"
      },
      "source": [
        "k = (2*np.pi*f)**2 * M\n",
        "p = np.sqrt(k/M)\n",
        "w = 2*np.pi*f"
      ],
      "execution_count": 3,
      "outputs": []
    },
    {
      "cell_type": "code",
      "metadata": {
        "colab": {
          "base_uri": "https://localhost:8080/"
        },
        "cellView": "form",
        "id": "AkNOMLBmYbXj",
        "outputId": "e2d81dcf-c5ee-459b-da97-17192f5bf3e8"
      },
      "source": [
        "#@title Resultados:\n",
        "print('k = %.0f [N/m]'%k)\n",
        "print('p = %.3f [1/s]'%p)\n",
        "print('w = %.3f [1/s]'%w)"
      ],
      "execution_count": 4,
      "outputs": [
        {
          "output_type": "stream",
          "name": "stdout",
          "text": [
            "k = 32570 [N/m]\n",
            "p = 31.416 [1/s]\n",
            "w = 31.416 [1/s]\n"
          ]
        }
      ]
    },
    {
      "cell_type": "markdown",
      "metadata": {
        "id": "_Sq7RrQxloYe"
      },
      "source": [
        "Obtenemos la relación: $k = (2 \\pi f)^2 m$, coeficiente de rigidez que *se mantendrá constante sin importar la frecuencia de trabajo, ya que la expresión obtenida es válida sólo en condiciones de resonancia.*"
      ]
    },
    {
      "cell_type": "markdown",
      "metadata": {
        "id": "Otvp6b0AmKEd"
      },
      "source": [
        "Por otro lado, la amplitud en condiciones de trabajo $\\omega = p$ es:"
      ]
    },
    {
      "cell_type": "markdown",
      "metadata": {
        "id": "nFhA-CzCmUI-"
      },
      "source": [
        "$$ A_{max} = \\frac{F_0/k}{2 \\frac{n}{n_c}} \\qquad \\Rightarrow \\qquad F_0 = 2 \\frac{n}{n_c} k A_{max} $$"
      ]
    },
    {
      "cell_type": "code",
      "metadata": {
        "id": "8iVJg0wtZA_9"
      },
      "source": [
        "Fo = 2*n_nc*k*A"
      ],
      "execution_count": 5,
      "outputs": []
    },
    {
      "cell_type": "code",
      "metadata": {
        "colab": {
          "base_uri": "https://localhost:8080/"
        },
        "cellView": "form",
        "id": "pWYOvEVgZThb",
        "outputId": "903db924-0e9c-47f7-c481-41d47e8b7ae3"
      },
      "source": [
        "#@title Resultado:\n",
        "print('Fo = %.1f [N]'%Fo)"
      ],
      "execution_count": 6,
      "outputs": [
        {
          "output_type": "stream",
          "name": "stdout",
          "text": [
            "Fo = 6.6 [N]\n"
          ]
        }
      ]
    },
    {
      "cell_type": "markdown",
      "metadata": {
        "id": "giEME6eimw2f"
      },
      "source": [
        "---\n",
        "### 2) Determinar la fuerza necesaria si la frecuencia aumenta el 30%. Comparar ambos casos."
      ]
    },
    {
      "cell_type": "markdown",
      "metadata": {
        "id": "AxKSVDMbnG0C"
      },
      "source": [
        "Si la frecuencia aumenta el 30% $\\displaystyle \\left( \\frac{\\omega}{p} = 1,3 \\right)$, la amplitud máxima del movimiento forzado es:"
      ]
    },
    {
      "cell_type": "markdown",
      "metadata": {
        "id": "LAM1LGKvno7Y"
      },
      "source": [
        "$$ A = \\frac{F_0 / k}{ \\displaystyle \\sqrt{ \\left( 1- \\frac{\\omega^2}{p^2} \\right)^2 + \\left( 2 \\frac{n}{n_c} \\frac{\\omega}{p} \\right)^2 } } \\quad \\Rightarrow \\quad F_0 = \\, ? $$"
      ]
    },
    {
      "cell_type": "code",
      "metadata": {
        "id": "Op7h5fapa8H7"
      },
      "source": [
        "F_1 = A*k*np.sqrt( (1 - 1.3**2)**2 + (2*n_nc*1.3)**2 )"
      ],
      "execution_count": 7,
      "outputs": []
    },
    {
      "cell_type": "code",
      "metadata": {
        "colab": {
          "base_uri": "https://localhost:8080/"
        },
        "cellView": "form",
        "id": "3DCSJYc4b_3T",
        "outputId": "d39cd3d7-a103-4ccb-e7c3-b976f40881bc"
      },
      "source": [
        "#@title Resultado:\n",
        "print('F_1 = %.2f [N]'%F_1)"
      ],
      "execution_count": 8,
      "outputs": [
        {
          "output_type": "stream",
          "name": "stdout",
          "text": [
            "F_1 = 39.17 [N]\n"
          ]
        }
      ]
    },
    {
      "cell_type": "code",
      "metadata": {
        "id": "Oryp1LvYccPJ"
      },
      "source": [
        "#%reset -s -f"
      ],
      "execution_count": null,
      "outputs": []
    }
  ]
}